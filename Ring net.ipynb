{
 "cells": [
  {
   "cell_type": "code",
   "execution_count": 57,
   "metadata": {
    "collapsed": false
   },
   "outputs": [
    {
     "name": "stdout",
     "output_type": "stream",
     "text": [
      "The autoreload extension is already loaded. To reload it, use:\n",
      "  %reload_ext autoreload\n"
     ]
    }
   ],
   "source": [
    "%load_ext autoreload\n",
    "%autoreload 2\n",
    "\n",
    "%matplotlib inline"
   ]
  },
  {
   "cell_type": "code",
   "execution_count": 58,
   "metadata": {
    "collapsed": true
   },
   "outputs": [],
   "source": [
    "from pymote import Node\n",
    "from pymote import Network"
   ]
  },
  {
   "cell_type": "code",
   "execution_count": 76,
   "metadata": {
    "collapsed": false
   },
   "outputs": [],
   "source": [
    "Node.cid = 1\n",
    "\n",
    "net = Network()"
   ]
  },
  {
   "cell_type": "code",
   "execution_count": 77,
   "metadata": {
    "collapsed": false
   },
   "outputs": [],
   "source": [
    "node1 = net.add_node(pos=[300,450])\n",
    "node2 = net.add_node(pos=[375,400])\n",
    "node3 = net.add_node(pos=[425,350], commRange=0)\n",
    "node4 = net.add_node(pos=[450,300], commRange=0)\n",
    "node5 = net.add_node(pos=[425,250], commRange=0)\n",
    "node6 = net.add_node(pos=[375,200])\n",
    "node7 = net.add_node(pos=[300,150])\n",
    "node8 = net.add_node(pos=[225,200])\n",
    "node9 = net.add_node(pos=[175,250])\n",
    "node10 = net.add_node(pos=[150,300])\n",
    "node11 = net.add_node(pos=[175,350])\n",
    "node12 = net.add_node(pos=[225,400])\n",
    "node13 = net.add_node(pos=[300,550])\n",
    "node14 = net.add_node(pos=[450,475])\n",
    "node15 = net.add_node(pos=[500,425])\n",
    "node16 = net.add_node(pos=[550,300], commRange=0)\n",
    "node17 = net.add_node(pos=[500,175])\n",
    "node18 = net.add_node(pos=[450,125])\n",
    "node19 = net.add_node(pos=[300,50])\n",
    "node20 = net.add_node(pos=[150,125])\n",
    "node21 = net.add_node(pos=[100,175])\n",
    "node22 = net.add_node(pos=[50,300])\n",
    "node23 = net.add_node(pos=[100,425])\n",
    "node24 = net.add_node(pos=[150,475])\n",
    "node25 = net.add_node(pos=[300,300])"
   ]
  },
  {
   "cell_type": "code",
   "execution_count": 78,
   "metadata": {
    "collapsed": true
   },
   "outputs": [],
   "source": [
    "net.add_edges_from([\n",
    "    (node1, node2),\n",
    "    (node2, node3),\n",
    "    (node3, node4),\n",
    "    (node4, node5),\n",
    "    (node5, node6),\n",
    "    (node6, node7),\n",
    "    (node7, node8),\n",
    "    (node8, node9),\n",
    "    (node9, node10),\n",
    "    (node10, node11),\n",
    "    (node11, node12),\n",
    "    (node12, node1),\n",
    "    (node13, node14),\n",
    "    (node14, node15),\n",
    "    (node15, node16),\n",
    "    (node16, node17),\n",
    "    (node17, node18),\n",
    "    (node18, node19),\n",
    "    (node19, node20),\n",
    "    (node20, node21),\n",
    "    (node21, node22),\n",
    "    (node22, node23),\n",
    "    (node23, node24),\n",
    "    (node24, node13),\n",
    "    (node25, node1),\n",
    "    (node25, node13)\n",
    "])"
   ]
  },
  {
   "cell_type": "code",
   "execution_count": 79,
   "metadata": {
    "collapsed": false
   },
   "outputs": [
    {
     "data": {
      "text/plain": [
       "{<Node id=18>: array([450, 125]),\n",
       " <Node id=4>: array([450, 300]),\n",
       " <Node id=7>: array([300, 150]),\n",
       " <Node id=3>: array([425, 350]),\n",
       " <Node id=1>: array([300, 450]),\n",
       " <Node id=2>: array([375, 400]),\n",
       " <Node id=8>: array([225, 200]),\n",
       " <Node id=6>: array([375, 200]),\n",
       " <Node id=5>: array([425, 250]),\n",
       " <Node id=11>: array([175, 350]),\n",
       " <Node id=9>: array([175, 250]),\n",
       " <Node id=10>: array([150, 300]),\n",
       " <Node id=17>: array([500, 175]),\n",
       " <Node id=13>: array([300, 550]),\n",
       " <Node id=12>: array([225, 400]),\n",
       " <Node id=16>: array([550, 300]),\n",
       " <Node id=15>: array([500, 425]),\n",
       " <Node id=24>: array([150, 475]),\n",
       " <Node id=22>: array([ 50, 300]),\n",
       " <Node id=25>: array([300, 300]),\n",
       " <Node id=21>: array([100, 175]),\n",
       " <Node id=14>: array([450, 475]),\n",
       " <Node id=23>: array([100, 425]),\n",
       " <Node id=20>: array([150, 125]),\n",
       " <Node id=19>: array([300,  50])}"
      ]
     },
     "execution_count": 79,
     "metadata": {},
     "output_type": "execute_result"
    }
   ],
   "source": [
    "net.pos"
   ]
  },
  {
   "cell_type": "code",
   "execution_count": 80,
   "metadata": {
    "collapsed": false
   },
   "outputs": [
    {
     "data": {
      "image/png": "[encoded data removed]",
      "text/plain": [
       "<matplotlib.figure.Figure at 0x3e8f4780>"
      ]
     },
     "metadata": {},
     "output_type": "display_data"
    }
   ],
   "source": [
    "net.show()"
   ]
  },
  {
   "cell_type": "code",
   "execution_count": 65,
   "metadata": {
    "collapsed": false
   },
   "outputs": [],
   "source": [
    "from pymote import write_pickle\n",
    "\n",
    "write_pickle(net, 'ring_net.tar.gz')"
   ]
  },
  {
   "cell_type": "code",
   "execution_count": null,
   "metadata": {
    "collapsed": true
   },
   "outputs": [],
   "source": []
  }
 ],
 "metadata": {
  "kernelspec": {
   "display_name": "Python 2",
   "language": "python",
   "name": "python2"
  },
  "language_info": {
   "codemirror_mode": {
    "name": "ipython",
    "version": 2
   },
   "file_extension": ".py",
   "mimetype": "text/x-python",
   "name": "python",
   "nbconvert_exporter": "python",
   "pygments_lexer": "ipython2",
   "version": "2.7.10"
  }
 },
 "nbformat": 4,
 "nbformat_minor": 0
}
