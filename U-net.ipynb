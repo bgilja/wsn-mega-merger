{
 "cells": [
  {
   "cell_type": "code",
   "execution_count": 1,
   "metadata": {
    "collapsed": true
   },
   "outputs": [],
   "source": [
    "%load_ext autoreload\n",
    "%autoreload 2\n",
    "\n",
    "%matplotlib inline"
   ]
  },
  {
   "cell_type": "code",
   "execution_count": 2,
   "metadata": {
    "collapsed": true
   },
   "outputs": [],
   "source": [
    "from pymote import Node\n",
    "from pymote import Network"
   ]
  },
  {
   "cell_type": "code",
   "execution_count": 51,
   "metadata": {
    "collapsed": false
   },
   "outputs": [],
   "source": [
    "Node.cid = 1\n",
    "\n",
    "net = Network()"
   ]
  },
  {
   "cell_type": "code",
   "execution_count": 52,
   "metadata": {
    "collapsed": false
   },
   "outputs": [],
   "source": [
    "node1 = net.add_node(pos=[215,400])\n",
    "node2 = net.add_node(pos=[215,350])\n",
    "node3 = net.add_node(pos=[215,300], commRange=0)\n",
    "node4 = net.add_node(pos=[215,250], commRange=0)\n",
    "node5 = net.add_node(pos=[300,250], commRange=0)\n",
    "node6 = net.add_node(pos=[395,250])\n",
    "node7 = net.add_node(pos=[395,300], commRange=0)\n",
    "node8 = net.add_node(pos=[395,350])\n",
    "node9 = net.add_node(pos=[395,400])\n",
    "node10 = net.add_node(pos=[100,400])\n",
    "node11 = net.add_node(pos=[100,350])\n",
    "node12 = net.add_node(pos=[100,300])\n",
    "node13 = net.add_node(pos=[100,100])\n",
    "node14 = net.add_node(pos=[300,100])\n",
    "node15 = net.add_node(pos=[500,100])\n",
    "node16 = net.add_node(pos=[500,300], commRange=0)\n",
    "node17 = net.add_node(pos=[500,350])\n",
    "node18 = net.add_node(pos=[500,400])"
   ]
  },
  {
   "cell_type": "code",
   "execution_count": 53,
   "metadata": {
    "collapsed": true
   },
   "outputs": [],
   "source": [
    "net.add_edges_from([\n",
    "    (node1, node2),\n",
    "    (node2, node3),\n",
    "    (node3, node4),\n",
    "    (node4, node5),\n",
    "    (node5, node6),\n",
    "    (node6, node7),\n",
    "    (node7, node8),\n",
    "    (node8, node9),\n",
    "    (node10, node11),\n",
    "    (node11, node12),\n",
    "    (node12, node13),\n",
    "    (node13, node14),\n",
    "    (node14, node15),\n",
    "    (node15, node16),\n",
    "    (node16, node17),\n",
    "    (node17, node18),\n",
    "    (node5, node14)\n",
    "])"
   ]
  },
  {
   "cell_type": "code",
   "execution_count": 54,
   "metadata": {
    "collapsed": false
   },
   "outputs": [
    {
     "data": {
      "text/plain": [
       "{<Node id=10>: array([100, 400]),\n",
       " <Node id=13>: array([100, 100]),\n",
       " <Node id=17>: array([500, 350]),\n",
       " <Node id=18>: array([500, 400]),\n",
       " <Node id=16>: array([500, 300]),\n",
       " <Node id=11>: array([100, 350]),\n",
       " <Node id=8>: array([395, 350]),\n",
       " <Node id=14>: array([300, 100]),\n",
       " <Node id=9>: array([395, 400]),\n",
       " <Node id=15>: array([500, 100]),\n",
       " <Node id=6>: array([395, 250]),\n",
       " <Node id=3>: array([215, 300]),\n",
       " <Node id=5>: array([300, 250]),\n",
       " <Node id=12>: array([100, 300]),\n",
       " <Node id=4>: array([215, 250]),\n",
       " <Node id=1>: array([215, 400]),\n",
       " <Node id=2>: array([215, 350]),\n",
       " <Node id=7>: array([395, 300])}"
      ]
     },
     "execution_count": 54,
     "metadata": {},
     "output_type": "execute_result"
    }
   ],
   "source": [
    "net.pos"
   ]
  },
  {
   "cell_type": "code",
   "execution_count": 55,
   "metadata": {
    "collapsed": false
   },
   "outputs": [
    {
     "data": {
      "image/png": "[encoded data removed]",
      "text/plain": [
       "<matplotlib.figure.Figure at 0x3e484dd8>"
      ]
     },
     "metadata": {},
     "output_type": "display_data"
    }
   ],
   "source": [
    "net.show()"
   ]
  },
  {
   "cell_type": "code",
   "execution_count": 56,
   "metadata": {
    "collapsed": true
   },
   "outputs": [],
   "source": [
    "from pymote import write_pickle\n",
    "\n",
    "write_pickle(net, 'U_net.tar.gz')"
   ]
  },
  {
   "cell_type": "code",
   "execution_count": null,
   "metadata": {
    "collapsed": true
   },
   "outputs": [],
   "source": []
  }
 ],
 "metadata": {
  "kernelspec": {
   "display_name": "Python 2",
   "language": "python",
   "name": "python2"
  },
  "language_info": {
   "codemirror_mode": {
    "name": "ipython",
    "version": 2
   },
   "file_extension": ".py",
   "mimetype": "text/x-python",
   "name": "python",
   "nbconvert_exporter": "python",
   "pygments_lexer": "ipython2",
   "version": "2.7.10"
  }
 },
 "nbformat": 4,
 "nbformat_minor": 0
}
